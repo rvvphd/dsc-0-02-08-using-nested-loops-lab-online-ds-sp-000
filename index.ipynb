{
 "cells": [
  {
   "cell_type": "markdown",
   "metadata": {},
   "source": [
    "# Using Nested Loops - Lab"
   ]
  },
  {
   "cell_type": "markdown",
   "metadata": {},
   "source": [
    "## Introduction\n",
    "In this lab, we will practice using nested loops to iterate over nested data structures and create new collections. We'll be using data from a soccer match to practice our nested loops."
   ]
  },
  {
   "cell_type": "markdown",
   "metadata": {},
   "source": [
    "## Objectives\n",
    "You will be able to:\n",
    "* Combine different types of loops\n",
    "* Understand, explain and use nested loops to iterate through nested data structures"
   ]
  },
  {
   "cell_type": "markdown",
   "metadata": {},
   "source": [
    "## Instructions"
   ]
  },
  {
   "cell_type": "markdown",
   "metadata": {},
   "source": [
    "Use nested loops and the below object, `soccer_match`, to complete the following prompts and get the desired return values.\n",
    "\n",
    "Each object's structure is identical, but make sure to have a good idea of what that structure looks like before getting started. "
   ]
  },
  {
   "cell_type": "code",
   "execution_count": 1,
   "metadata": {},
   "outputs": [],
   "source": [
    "soccer_match = [\n",
    "  { \"home_team\": True,\n",
    "    \"away_team\": False,\n",
    "    \"country\": \"France\",\n",
    "    \"num_passes\": 484,\n",
    "    \"passes_completed\": 423,\n",
    "    \"fouls_committed\": 16,\n",
    "    \"colors\": [\"blue\", \"white\", \"red\"],\n",
    "    \"players\": [\n",
    "      {\n",
    "        \"name\": \"Hugo LLORIS\",\n",
    "        \"captain\": True,\n",
    "        \"shirt_number\": 1,\n",
    "        \"position\": \"Goalie\"\n",
    "      },\n",
    "      {\n",
    "        \"name\": \"Benjamin PAVARD\",\n",
    "        \"captain\": False,\n",
    "        \"shirt_number\": 2,\n",
    "        \"position\": \"Defender\"\n",
    "      },\n",
    "      {\n",
    "        \"name\": \"Raphael VARANE\",\n",
    "        \"captain\": False,\n",
    "        \"shirt_number\": 4,\n",
    "        \"position\": \"Defender\"\n",
    "      },\n",
    "      {\n",
    "        \"name\": \"Samuel UMTITI\",\n",
    "        \"captain\": False,\n",
    "        \"shirt_number\": 5,\n",
    "        \"position\": \"Defender\"\n",
    "      },\n",
    "      {\n",
    "        \"name\": \"Paul POGBA\",\n",
    "        \"captain\": False,\n",
    "        \"shirt_number\": 6,\n",
    "        \"position\": \"Midfield\"\n",
    "      },\n",
    "      {\n",
    "        \"name\": \"Antoine GRIEZMANN\",\n",
    "        \"captain\": False,\n",
    "        \"shirt_number\": 7,\n",
    "        \"position\": \"Forward\"\n",
    "      },\n",
    "      {\n",
    "        \"name\": \"Kylian MBAPPE\",\n",
    "        \"captain\": False,\n",
    "        \"shirt_number\": 10,\n",
    "        \"position\": \"Forward\"\n",
    "      },\n",
    "      {\n",
    "        \"name\": \"Ousmane DEMBELE\",\n",
    "        \"captain\": False,\n",
    "        \"shirt_number\": 11,\n",
    "        \"position\": \"Forward\"\n",
    "      },\n",
    "      {\n",
    "        \"name\": \"Corentin TOLISSO\",\n",
    "        \"captain\": False,\n",
    "        \"shirt_number\": 12,\n",
    "        \"position\": \"Midfield\"\n",
    "      },\n",
    "      {\n",
    "        \"name\": \"Ngolo KANTE\",\n",
    "        \"captain\": False,\n",
    "        \"shirt_number\": 13,\n",
    "        \"position\": \"Midfield\"\n",
    "      },\n",
    "      {\n",
    "        \"name\": \"Lucas HERNANDEZ\",\n",
    "        \"captain\": False,\n",
    "        \"shirt_number\": 21,\n",
    "        \"position\": \"Defender\"\n",
    "      }\n",
    "    ],\n",
    "  },\n",
    "  { \"home_team\": False,\n",
    "    \"away_team\": True,\n",
    "    \"country\": \"Australia\",\n",
    "    \"num_passes\": 390,\n",
    "    \"passes_completed\": 332,\n",
    "    \"fouls_committed\": 19,\n",
    "    \"colors\": [\"green\", \"gold\"],\n",
    "    \"players\": [\n",
    "      {\n",
    "        \"name\": \"Mathew RYAN\",\n",
    "        \"captain\": False,\n",
    "        \"shirt_number\": 1,\n",
    "        \"position\": \"Goalie\"\n",
    "      },\n",
    "      {\n",
    "        \"name\": \"Mark MILLIGAN\",\n",
    "        \"captain\": False,\n",
    "        \"shirt_number\": 5,\n",
    "        \"position\": \"Defender\"\n",
    "      },\n",
    "      {\n",
    "        \"name\": \"Mathew LECKIE\",\n",
    "        \"captain\": False,\n",
    "        \"shirt_number\": 7,\n",
    "        \"position\": \"Forward\"\n",
    "      },\n",
    "      {\n",
    "        \"name\": \"Robbie KRUSE\",\n",
    "        \"captain\": False,\n",
    "        \"shirt_number\": 10,\n",
    "        \"position\": \"Forward\"\n",
    "      },\n",
    "      {\n",
    "        \"name\": \"Andrew NABBOUT\",\n",
    "        \"captain\": False,\n",
    "        \"shirt_number\": 11,\n",
    "        \"position\": \"Forward\"\n",
    "      },\n",
    "      {\n",
    "        \"name\": \"Aaron MOOY\",\n",
    "        \"captain\": False,\n",
    "        \"shirt_number\": 13,\n",
    "        \"position\": \"Midfield\"\n",
    "      },\n",
    "      {\n",
    "        \"name\": \"Mile JEDINAK\",\n",
    "        \"captain\": True,\n",
    "        \"shirt_number\": 15,\n",
    "        \"position\": \"Midfield\"\n",
    "      },\n",
    "      {\n",
    "        \"name\": \"Aziz BEHICH\",\n",
    "        \"captain\": False,\n",
    "        \"shirt_number\": 16,\n",
    "        \"position\": \"Defender\"\n",
    "      },\n",
    "      {\n",
    "        \"name\": \"Joshua RISDON\",\n",
    "        \"captain\": False,\n",
    "        \"shirt_number\": 19,\n",
    "        \"position\": \"Defender\"\n",
    "      },\n",
    "      {\n",
    "        \"name\": \"Trent SAINSBURY\",\n",
    "        \"captain\": False,\n",
    "        \"shirt_number\": 20,\n",
    "        \"position\": \"Defender\"\n",
    "      },\n",
    "      {\n",
    "        \"name\": \"Tom ROGIC\",\n",
    "        \"captain\": False,\n",
    "        \"shirt_number\": 23,\n",
    "        \"position\": \"Midfield\"\n",
    "      }\n",
    "    ]\n",
    "  }\n",
    "]"
   ]
  },
  {
   "cell_type": "code",
   "execution_count": 2,
   "metadata": {},
   "outputs": [
    {
     "name": "stdout",
     "output_type": "stream",
     "text": [
      "F\n",
      "r\n",
      "a\n",
      "n\n",
      "c\n",
      "e\n",
      "A\n",
      "u\n",
      "s\n",
      "t\n",
      "r\n",
      "a\n",
      "l\n",
      "i\n",
      "a\n"
     ]
    }
   ],
   "source": [
    "# iterate over the soccer_match list to create a new list with the name of the country for each team\n",
    "countries = None\n",
    "# code goes here\n",
    "\n",
    "for new_list in soccer_match:\n",
    "    for country in new_list['country']:\n",
    "        print(country)"
   ]
  },
  {
   "cell_type": "code",
   "execution_count": 3,
   "metadata": {},
   "outputs": [
    {
     "name": "stdout",
     "output_type": "stream",
     "text": [
      "blue\n",
      "white\n",
      "red\n",
      "green\n",
      "gold\n"
     ]
    }
   ],
   "source": [
    "# iterate over the soccer_match list to create a new list with the colors for each team\n",
    "# this should be only one list containing strings for each of the country's colors\n",
    "colors = None\n",
    "# code goes here\n",
    "for new_list in soccer_match:\n",
    "    for colors in new_list['colors']:\n",
    "        print(colors)"
   ]
  },
  {
   "cell_type": "code",
   "execution_count": 52,
   "metadata": {},
   "outputs": [
    {
     "name": "stdout",
     "output_type": "stream",
     "text": [
      "{'name': 'Hugo LLORIS', 'captain': True, 'shirt_number': 1, 'position': 'Goalie'}\n",
      "{'name': 'Benjamin PAVARD', 'captain': False, 'shirt_number': 2, 'position': 'Defender'}\n",
      "{'name': 'Raphael VARANE', 'captain': False, 'shirt_number': 4, 'position': 'Defender'}\n",
      "{'name': 'Samuel UMTITI', 'captain': False, 'shirt_number': 5, 'position': 'Defender'}\n",
      "{'name': 'Paul POGBA', 'captain': False, 'shirt_number': 6, 'position': 'Midfield'}\n",
      "{'name': 'Antoine GRIEZMANN', 'captain': False, 'shirt_number': 7, 'position': 'Forward'}\n",
      "{'name': 'Kylian MBAPPE', 'captain': False, 'shirt_number': 10, 'position': 'Forward'}\n",
      "{'name': 'Ousmane DEMBELE', 'captain': False, 'shirt_number': 11, 'position': 'Forward'}\n",
      "{'name': 'Corentin TOLISSO', 'captain': False, 'shirt_number': 12, 'position': 'Midfield'}\n",
      "{'name': 'Ngolo KANTE', 'captain': False, 'shirt_number': 13, 'position': 'Midfield'}\n",
      "{'name': 'Lucas HERNANDEZ', 'captain': False, 'shirt_number': 21, 'position': 'Defender'}\n",
      "{'name': 'Mathew RYAN', 'captain': False, 'shirt_number': 1, 'position': 'Goalie'}\n",
      "{'name': 'Mark MILLIGAN', 'captain': False, 'shirt_number': 5, 'position': 'Defender'}\n",
      "{'name': 'Mathew LECKIE', 'captain': False, 'shirt_number': 7, 'position': 'Forward'}\n",
      "{'name': 'Robbie KRUSE', 'captain': False, 'shirt_number': 10, 'position': 'Forward'}\n",
      "{'name': 'Andrew NABBOUT', 'captain': False, 'shirt_number': 11, 'position': 'Forward'}\n",
      "{'name': 'Aaron MOOY', 'captain': False, 'shirt_number': 13, 'position': 'Midfield'}\n",
      "{'name': 'Mile JEDINAK', 'captain': True, 'shirt_number': 15, 'position': 'Midfield'}\n",
      "{'name': 'Aziz BEHICH', 'captain': False, 'shirt_number': 16, 'position': 'Defender'}\n",
      "{'name': 'Joshua RISDON', 'captain': False, 'shirt_number': 19, 'position': 'Defender'}\n",
      "{'name': 'Trent SAINSBURY', 'captain': False, 'shirt_number': 20, 'position': 'Defender'}\n",
      "{'name': 'Tom ROGIC', 'captain': False, 'shirt_number': 23, 'position': 'Midfield'}\n"
     ]
    }
   ],
   "source": [
    "# iterate over the soccer_match list to create a new list with the players from each team\n",
    "# this should be only one list containing the dictionaries for each of the country's players\n",
    "players = None\n",
    "# code goes here\n",
    "for new_list in soccer_match:\n",
    "    for players in new_list['players']:\n",
    "        print(players)"
   ]
  },
  {
   "cell_type": "code",
   "execution_count": 4,
   "metadata": {},
   "outputs": [],
   "source": [
    "# iterate over the soccer_match list to create a new list with the captains from each team\n",
    "# this should be only one list containing the dictionaries for each of the country's captains\n",
    "captains = None\n",
    "for new_list in soccer_match:\n",
    "    for players in new_list['players']:\n",
    "        if 'captain' in new_list['players']:\n",
    "            print(players)"
   ]
  },
  {
   "cell_type": "code",
   "execution_count": 68,
   "metadata": {},
   "outputs": [
    {
     "name": "stdout",
     "output_type": "stream",
     "text": [
      "{'name': 'Hugo LLORIS', 'captain': True, 'shirt_number': 1, 'position': 'Goalie'}\n"
     ]
    },
    {
     "ename": "TypeError",
     "evalue": "'NoneType' object is not subscriptable",
     "output_type": "error",
     "traceback": [
      "\u001b[0;31m\u001b[0m",
      "\u001b[0;31mTypeError\u001b[0mTraceback (most recent call last)",
      "\u001b[0;32m<ipython-input-68-e46d399ff403>\u001b[0m in \u001b[0;36m<module>\u001b[0;34m()\u001b[0m\n\u001b[1;32m      5\u001b[0m \u001b[0;32mfor\u001b[0m \u001b[0mnew_list\u001b[0m \u001b[0;32min\u001b[0m \u001b[0msoccer_match\u001b[0m\u001b[0;34m:\u001b[0m\u001b[0;34m\u001b[0m\u001b[0m\n\u001b[1;32m      6\u001b[0m     \u001b[0;32mfor\u001b[0m \u001b[0mhome_team_players\u001b[0m \u001b[0;32min\u001b[0m \u001b[0mnew_list\u001b[0m\u001b[0;34m[\u001b[0m\u001b[0;34m'players'\u001b[0m\u001b[0;34m]\u001b[0m\u001b[0;34m:\u001b[0m\u001b[0;34m\u001b[0m\u001b[0m\n\u001b[0;32m----> 7\u001b[0;31m         \u001b[0mprint\u001b[0m\u001b[0;34m(\u001b[0m\u001b[0mplayers\u001b[0m\u001b[0;34m)\u001b[0m\u001b[0;34m[\u001b[0m\u001b[0;36m0\u001b[0m\u001b[0;34m,\u001b[0m\u001b[0;36m4\u001b[0m\u001b[0;34m]\u001b[0m\u001b[0;34m\u001b[0m\u001b[0m\n\u001b[0m",
      "\u001b[0;31mTypeError\u001b[0m: 'NoneType' object is not subscriptable"
     ]
    }
   ],
   "source": [
    "# iterate over the soccer_match list to create a new list with the players from ONLY the home team\n",
    "# this should be only one list containing the dictionaries for each of the home team's players\n",
    "home_team_players = None\n",
    "# code goes here\n",
    "for new_list in soccer_match:\n",
    "    for home_team_players in new_list['players']:\n",
    "        print(players)[0,4]"
   ]
  },
  {
   "cell_type": "code",
   "execution_count": 5,
   "metadata": {},
   "outputs": [
    {
     "name": "stdout",
     "output_type": "stream",
     "text": [
      "{'name': 'Tom ROGIC', 'captain': False, 'shirt_number': 23, 'position': 'Midfield'}\n"
     ]
    },
    {
     "ename": "TypeError",
     "evalue": "'NoneType' object is not subscriptable",
     "output_type": "error",
     "traceback": [
      "\u001b[0;31m\u001b[0m",
      "\u001b[0;31mTypeError\u001b[0mTraceback (most recent call last)",
      "\u001b[0;32m<ipython-input-5-915c99efcd50>\u001b[0m in \u001b[0;36m<module>\u001b[0;34m()\u001b[0m\n\u001b[1;32m      6\u001b[0m \u001b[0;32mfor\u001b[0m \u001b[0mnew_list\u001b[0m \u001b[0;32min\u001b[0m \u001b[0msoccer_match\u001b[0m\u001b[0;34m:\u001b[0m\u001b[0;34m\u001b[0m\u001b[0m\n\u001b[1;32m      7\u001b[0m     \u001b[0;32mfor\u001b[0m \u001b[0maway_team_players\u001b[0m \u001b[0;32min\u001b[0m \u001b[0mnew_list\u001b[0m\u001b[0;34m[\u001b[0m\u001b[0;34m'players'\u001b[0m\u001b[0;34m]\u001b[0m\u001b[0;34m:\u001b[0m\u001b[0;34m\u001b[0m\u001b[0m\n\u001b[0;32m----> 8\u001b[0;31m         \u001b[0mprint\u001b[0m\u001b[0;34m(\u001b[0m\u001b[0mplayers\u001b[0m\u001b[0;34m)\u001b[0m\u001b[0;34m[\u001b[0m\u001b[0;36m0\u001b[0m\u001b[0;34m,\u001b[0m\u001b[0;36m4\u001b[0m\u001b[0;34m]\u001b[0m\u001b[0;34m\u001b[0m\u001b[0m\n\u001b[0m",
      "\u001b[0;31mTypeError\u001b[0m: 'NoneType' object is not subscriptable"
     ]
    }
   ],
   "source": [
    "# iterate over the soccer_match list to create a new list \n",
    "# with the players from ONLY the away team with the position of forward\n",
    "# this should be only one list containing the dictionaries for each of the selected players\n",
    "forwards = None\n",
    "# code goes here\n",
    "for new_list in soccer_match:\n",
    "    for away_team_players in new_list['players']:\n",
    "        print(players)[0,4]"
   ]
  },
  {
   "cell_type": "code",
   "execution_count": 61,
   "metadata": {},
   "outputs": [
    {
     "ename": "TypeError",
     "evalue": "unhashable type: 'set'",
     "output_type": "error",
     "traceback": [
      "\u001b[0;31m\u001b[0m",
      "\u001b[0;31mTypeError\u001b[0mTraceback (most recent call last)",
      "\u001b[0;32m<ipython-input-61-709cd271cd55>\u001b[0m in \u001b[0;36m<module>\u001b[0;34m()\u001b[0m\n\u001b[1;32m      4\u001b[0m \u001b[0;31m# code goes here\u001b[0m\u001b[0;34m\u001b[0m\u001b[0;34m\u001b[0m\u001b[0m\n\u001b[1;32m      5\u001b[0m \u001b[0;32mfor\u001b[0m \u001b[0mnew_list\u001b[0m \u001b[0;32min\u001b[0m \u001b[0msoccer_match\u001b[0m\u001b[0;34m:\u001b[0m\u001b[0;34m\u001b[0m\u001b[0m\n\u001b[0;32m----> 6\u001b[0;31m     \u001b[0;32mfor\u001b[0m \u001b[0mplayer_with_highest_num\u001b[0m \u001b[0;32min\u001b[0m \u001b[0mnew_list\u001b[0m\u001b[0;34m[\u001b[0m\u001b[0;34m{\u001b[0m\u001b[0;34m'shirt_number'\u001b[0m\u001b[0;34m}\u001b[0m\u001b[0;34m]\u001b[0m\u001b[0;34m:\u001b[0m\u001b[0;34m\u001b[0m\u001b[0m\n\u001b[0m\u001b[1;32m      7\u001b[0m         \u001b[0mprint\u001b[0m\u001b[0;34m[\u001b[0m\u001b[0mshirt_num\u001b[0m\u001b[0;34m]\u001b[0m\u001b[0;34m\u001b[0m\u001b[0m\n",
      "\u001b[0;31mTypeError\u001b[0m: unhashable type: 'set'"
     ]
    }
   ],
   "source": [
    "# iterate over the soccer_match list and find the player with the highest shirt_number\n",
    "# assign the player with the highst shirt_number to player_with_highest_num variable\n",
    "player_with_highest_num = None\n",
    "# code goes here\n",
    "for new_list in soccer_match:\n",
    "    for player_with_highest_num in new_list[{'shirt_number'}]:\n",
    "        print[shirt_num]"
   ]
  },
  {
   "cell_type": "raw",
   "metadata": {},
   "source": []
  },
  {
   "cell_type": "code",
   "execution_count": 54,
   "metadata": {},
   "outputs": [],
   "source": [
    "# as we can see, the players all have their last names in all caps, as if they are being yelled\n",
    "# we want a list of all the names of the players in this match\n",
    "# but we want both first and last names to be formatted in title case\n",
    "player_names = None\n",
    "# code goes here"
   ]
  },
  {
   "cell_type": "markdown",
   "metadata": {},
   "source": [
    "## Summary"
   ]
  },
  {
   "cell_type": "markdown",
   "metadata": {},
   "source": [
    "In this lab, we practiced using nested loops to iterate through a nested data structure using data from a soccer match. Nested data structures can be quite complicated and it can become difficult to access more nested data. With nested loops, we are able to dynamically access this nested data and work with it as we would with a flatter data structure. It is important to think about the structure of the data before and while you're working so you know exactly what data you are working with at each level."
   ]
  }
 ],
 "metadata": {
  "kernelspec": {
   "display_name": "Python 3",
   "language": "python",
   "name": "python3"
  },
  "language_info": {
   "codemirror_mode": {
    "name": "ipython",
    "version": 3
   },
   "file_extension": ".py",
   "mimetype": "text/x-python",
   "name": "python",
   "nbconvert_exporter": "python",
   "pygments_lexer": "ipython3",
   "version": "3.6.6"
  }
 },
 "nbformat": 4,
 "nbformat_minor": 2
}
